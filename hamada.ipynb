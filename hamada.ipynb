{
 "cells": [
  {
   "cell_type": "code",
   "execution_count": 250,
   "id": "4861f9dc",
   "metadata": {},
   "outputs": [],
   "source": [
    "import numpy as np\n",
    "import pandas as pd \n",
    "import streamlit as st\n",
    "from sklearn.model_selection import cross_validate \n",
    "from sklearn.compose import ColumnTransformer \n",
    "from sklearn.preprocessing import StandardScaler , OneHotEncoder\n",
    "from sklearn.tree import DecisionTreeRegressor\n",
    "from sklearn.ensemble import RandomForestRegressor\n",
    "from sklearn.pipeline import Pipeline\n",
    "from sklearn.linear_model import LinearRegression\n"
   ]
  },
  {
   "cell_type": "code",
   "execution_count": 76,
   "id": "35bf63d9",
   "metadata": {},
   "outputs": [],
   "source": [
    "from sklearn.svm import SVR\n",
    "from xgboost import XGBRegressor\n",
    "from sklearn.linear_model import LinearRegression"
   ]
  },
  {
   "cell_type": "code",
   "execution_count": 484,
   "id": "339a2b3b",
   "metadata": {},
   "outputs": [],
   "source": [
    "from datasist.structdata import detect_outliers\n",
    "import seaborn as sns\n",
    "import warnings \n",
    "warnings.filterwarnings('ignore')"
   ]
  },
  {
   "cell_type": "code",
   "execution_count": 15,
   "id": "f462392c",
   "metadata": {},
   "outputs": [],
   "source": [
    "df = pd.read_csv('cardio_train.csv',';')"
   ]
  },
  {
   "cell_type": "code",
   "execution_count": 17,
   "id": "b384d195",
   "metadata": {},
   "outputs": [],
   "source": [
    "df.drop('id',axis= 1 ,inplace = True)"
   ]
  },
  {
   "cell_type": "code",
   "execution_count": 21,
   "id": "334e2d30",
   "metadata": {},
   "outputs": [
    {
     "data": {
      "text/plain": [
       "24"
      ]
     },
     "execution_count": 21,
     "metadata": {},
     "output_type": "execute_result"
    }
   ],
   "source": [
    "df.duplicated().sum()"
   ]
  },
  {
   "cell_type": "code",
   "execution_count": 22,
   "id": "1cc7ffbc",
   "metadata": {},
   "outputs": [],
   "source": [
    "df.drop_duplicates(inplace = True , ignore_index = True )"
   ]
  },
  {
   "cell_type": "code",
   "execution_count": 26,
   "id": "cab8943d",
   "metadata": {},
   "outputs": [
    {
     "data": {
      "text/plain": [
       "age            0\n",
       "gender         0\n",
       "height         0\n",
       "weight         0\n",
       "ap_hi          0\n",
       "ap_lo          0\n",
       "cholesterol    0\n",
       "gluc           0\n",
       "smoke          0\n",
       "alco           0\n",
       "active         0\n",
       "cardio         0\n",
       "dtype: int64"
      ]
     },
     "execution_count": 26,
     "metadata": {},
     "output_type": "execute_result"
    }
   ],
   "source": [
    "df.isna().sum()"
   ]
  },
  {
   "cell_type": "code",
   "execution_count": 31,
   "id": "a696fc02",
   "metadata": {},
   "outputs": [],
   "source": [
    "df['age'] = df['age']/365"
   ]
  },
  {
   "cell_type": "code",
   "execution_count": null,
   "id": "434cbe6a",
   "metadata": {},
   "outputs": [],
   "source": [
    "lis= ['age','gender','height','weight','ap_hi','ap_lo']"
   ]
  },
  {
   "cell_type": "code",
   "execution_count": null,
   "id": "f53cec62",
   "metadata": {},
   "outputs": [],
   "source": [
    "for i in lis :\n",
    "    dro = detect_outliers(df,0,[i])\n",
    "    df.drop(dro,axis= 0 , inplace = True)"
   ]
  },
  {
   "cell_type": "code",
   "execution_count": null,
   "id": "58174e15",
   "metadata": {},
   "outputs": [],
   "source": [
    "df.reset_index(drop = True,inplace = True )"
   ]
  },
  {
   "cell_type": "markdown",
   "id": "5e93faf6",
   "metadata": {},
   "source": [
    " "
   ]
  },
  {
   "cell_type": "code",
   "execution_count": 616,
   "id": "568ffa8c",
   "metadata": {},
   "outputs": [],
   "source": [
    "list1 = []\n",
    "list1.append(('scaler',StandardScaler()))\n",
    "list1.append(('encoder',LinearRegression()))"
   ]
  },
  {
   "cell_type": "code",
   "execution_count": 617,
   "id": "10bb82c2",
   "metadata": {},
   "outputs": [],
   "source": [
    "pipeline = Pipeline(steps = list1)"
   ]
  },
  {
   "cell_type": "code",
   "execution_count": 618,
   "id": "f22e5881",
   "metadata": {},
   "outputs": [
    {
     "data": {
      "text/html": [
       "<style>#sk-container-id-55 {color: black;background-color: white;}#sk-container-id-55 pre{padding: 0;}#sk-container-id-55 div.sk-toggleable {background-color: white;}#sk-container-id-55 label.sk-toggleable__label {cursor: pointer;display: block;width: 100%;margin-bottom: 0;padding: 0.3em;box-sizing: border-box;text-align: center;}#sk-container-id-55 label.sk-toggleable__label-arrow:before {content: \"▸\";float: left;margin-right: 0.25em;color: #696969;}#sk-container-id-55 label.sk-toggleable__label-arrow:hover:before {color: black;}#sk-container-id-55 div.sk-estimator:hover label.sk-toggleable__label-arrow:before {color: black;}#sk-container-id-55 div.sk-toggleable__content {max-height: 0;max-width: 0;overflow: hidden;text-align: left;background-color: #f0f8ff;}#sk-container-id-55 div.sk-toggleable__content pre {margin: 0.2em;color: black;border-radius: 0.25em;background-color: #f0f8ff;}#sk-container-id-55 input.sk-toggleable__control:checked~div.sk-toggleable__content {max-height: 200px;max-width: 100%;overflow: auto;}#sk-container-id-55 input.sk-toggleable__control:checked~label.sk-toggleable__label-arrow:before {content: \"▾\";}#sk-container-id-55 div.sk-estimator input.sk-toggleable__control:checked~label.sk-toggleable__label {background-color: #d4ebff;}#sk-container-id-55 div.sk-label input.sk-toggleable__control:checked~label.sk-toggleable__label {background-color: #d4ebff;}#sk-container-id-55 input.sk-hidden--visually {border: 0;clip: rect(1px 1px 1px 1px);clip: rect(1px, 1px, 1px, 1px);height: 1px;margin: -1px;overflow: hidden;padding: 0;position: absolute;width: 1px;}#sk-container-id-55 div.sk-estimator {font-family: monospace;background-color: #f0f8ff;border: 1px dotted black;border-radius: 0.25em;box-sizing: border-box;margin-bottom: 0.5em;}#sk-container-id-55 div.sk-estimator:hover {background-color: #d4ebff;}#sk-container-id-55 div.sk-parallel-item::after {content: \"\";width: 100%;border-bottom: 1px solid gray;flex-grow: 1;}#sk-container-id-55 div.sk-label:hover label.sk-toggleable__label {background-color: #d4ebff;}#sk-container-id-55 div.sk-serial::before {content: \"\";position: absolute;border-left: 1px solid gray;box-sizing: border-box;top: 0;bottom: 0;left: 50%;z-index: 0;}#sk-container-id-55 div.sk-serial {display: flex;flex-direction: column;align-items: center;background-color: white;padding-right: 0.2em;padding-left: 0.2em;position: relative;}#sk-container-id-55 div.sk-item {position: relative;z-index: 1;}#sk-container-id-55 div.sk-parallel {display: flex;align-items: stretch;justify-content: center;background-color: white;position: relative;}#sk-container-id-55 div.sk-item::before, #sk-container-id-55 div.sk-parallel-item::before {content: \"\";position: absolute;border-left: 1px solid gray;box-sizing: border-box;top: 0;bottom: 0;left: 50%;z-index: -1;}#sk-container-id-55 div.sk-parallel-item {display: flex;flex-direction: column;z-index: 1;position: relative;background-color: white;}#sk-container-id-55 div.sk-parallel-item:first-child::after {align-self: flex-end;width: 50%;}#sk-container-id-55 div.sk-parallel-item:last-child::after {align-self: flex-start;width: 50%;}#sk-container-id-55 div.sk-parallel-item:only-child::after {width: 0;}#sk-container-id-55 div.sk-dashed-wrapped {border: 1px dashed gray;margin: 0 0.4em 0.5em 0.4em;box-sizing: border-box;padding-bottom: 0.4em;background-color: white;}#sk-container-id-55 div.sk-label label {font-family: monospace;font-weight: bold;display: inline-block;line-height: 1.2em;}#sk-container-id-55 div.sk-label-container {text-align: center;}#sk-container-id-55 div.sk-container {/* jupyter's `normalize.less` sets `[hidden] { display: none; }` but bootstrap.min.css set `[hidden] { display: none !important; }` so we also need the `!important` here to be able to override the default hidden behavior on the sphinx rendered scikit-learn.org. See: https://github.com/scikit-learn/scikit-learn/issues/21755 */display: inline-block !important;position: relative;}#sk-container-id-55 div.sk-text-repr-fallback {display: none;}</style><div id=\"sk-container-id-55\" class=\"sk-top-container\"><div class=\"sk-text-repr-fallback\"><pre>Pipeline(steps=[(&#x27;scaler&#x27;, StandardScaler()), (&#x27;encoder&#x27;, LinearRegression())])</pre><b>In a Jupyter environment, please rerun this cell to show the HTML representation or trust the notebook. <br />On GitHub, the HTML representation is unable to render, please try loading this page with nbviewer.org.</b></div><div class=\"sk-container\" hidden><div class=\"sk-item sk-dashed-wrapped\"><div class=\"sk-label-container\"><div class=\"sk-label sk-toggleable\"><input class=\"sk-toggleable__control sk-hidden--visually\" id=\"sk-estimator-id-227\" type=\"checkbox\" ><label for=\"sk-estimator-id-227\" class=\"sk-toggleable__label sk-toggleable__label-arrow\">Pipeline</label><div class=\"sk-toggleable__content\"><pre>Pipeline(steps=[(&#x27;scaler&#x27;, StandardScaler()), (&#x27;encoder&#x27;, LinearRegression())])</pre></div></div></div><div class=\"sk-serial\"><div class=\"sk-item\"><div class=\"sk-estimator sk-toggleable\"><input class=\"sk-toggleable__control sk-hidden--visually\" id=\"sk-estimator-id-228\" type=\"checkbox\" ><label for=\"sk-estimator-id-228\" class=\"sk-toggleable__label sk-toggleable__label-arrow\">StandardScaler</label><div class=\"sk-toggleable__content\"><pre>StandardScaler()</pre></div></div></div><div class=\"sk-item\"><div class=\"sk-estimator sk-toggleable\"><input class=\"sk-toggleable__control sk-hidden--visually\" id=\"sk-estimator-id-229\" type=\"checkbox\" ><label for=\"sk-estimator-id-229\" class=\"sk-toggleable__label sk-toggleable__label-arrow\">LinearRegression</label><div class=\"sk-toggleable__content\"><pre>LinearRegression()</pre></div></div></div></div></div></div></div>"
      ],
      "text/plain": [
       "Pipeline(steps=[('scaler', StandardScaler()), ('encoder', LinearRegression())])"
      ]
     },
     "execution_count": 618,
     "metadata": {},
     "output_type": "execute_result"
    }
   ],
   "source": [
    "pipeline"
   ]
  },
  {
   "cell_type": "code",
   "execution_count": 619,
   "id": "a808cabc",
   "metadata": {},
   "outputs": [],
   "source": [
    "x = df.drop(['cholesterol'],axis = 1)\n",
    "y = df['cholesterol']"
   ]
  },
  {
   "cell_type": "code",
   "execution_count": 620,
   "id": "94537beb",
   "metadata": {},
   "outputs": [],
   "source": [
    "score = cross_validate(pipeline , x , y , cv = 5 , scoring=\"r2\" , return_train_score=True)"
   ]
  },
  {
   "cell_type": "code",
   "execution_count": 621,
   "id": "c4a34165",
   "metadata": {},
   "outputs": [
    {
     "data": {
      "text/plain": [
       "0.25469512821786355"
      ]
     },
     "execution_count": 621,
     "metadata": {},
     "output_type": "execute_result"
    }
   ],
   "source": [
    "score[\"train_score\"].mean()"
   ]
  },
  {
   "cell_type": "code",
   "execution_count": 622,
   "id": "6a15c6a3",
   "metadata": {},
   "outputs": [
    {
     "data": {
      "text/plain": [
       "0.2541005778840286"
      ]
     },
     "execution_count": 622,
     "metadata": {},
     "output_type": "execute_result"
    }
   ],
   "source": [
    "score[\"test_score\"].mean()"
   ]
  },
  {
   "cell_type": "code",
   "execution_count": 623,
   "id": "f0b6540e",
   "metadata": {},
   "outputs": [
    {
     "data": {
      "text/html": [
       "<style>#sk-container-id-56 {color: black;background-color: white;}#sk-container-id-56 pre{padding: 0;}#sk-container-id-56 div.sk-toggleable {background-color: white;}#sk-container-id-56 label.sk-toggleable__label {cursor: pointer;display: block;width: 100%;margin-bottom: 0;padding: 0.3em;box-sizing: border-box;text-align: center;}#sk-container-id-56 label.sk-toggleable__label-arrow:before {content: \"▸\";float: left;margin-right: 0.25em;color: #696969;}#sk-container-id-56 label.sk-toggleable__label-arrow:hover:before {color: black;}#sk-container-id-56 div.sk-estimator:hover label.sk-toggleable__label-arrow:before {color: black;}#sk-container-id-56 div.sk-toggleable__content {max-height: 0;max-width: 0;overflow: hidden;text-align: left;background-color: #f0f8ff;}#sk-container-id-56 div.sk-toggleable__content pre {margin: 0.2em;color: black;border-radius: 0.25em;background-color: #f0f8ff;}#sk-container-id-56 input.sk-toggleable__control:checked~div.sk-toggleable__content {max-height: 200px;max-width: 100%;overflow: auto;}#sk-container-id-56 input.sk-toggleable__control:checked~label.sk-toggleable__label-arrow:before {content: \"▾\";}#sk-container-id-56 div.sk-estimator input.sk-toggleable__control:checked~label.sk-toggleable__label {background-color: #d4ebff;}#sk-container-id-56 div.sk-label input.sk-toggleable__control:checked~label.sk-toggleable__label {background-color: #d4ebff;}#sk-container-id-56 input.sk-hidden--visually {border: 0;clip: rect(1px 1px 1px 1px);clip: rect(1px, 1px, 1px, 1px);height: 1px;margin: -1px;overflow: hidden;padding: 0;position: absolute;width: 1px;}#sk-container-id-56 div.sk-estimator {font-family: monospace;background-color: #f0f8ff;border: 1px dotted black;border-radius: 0.25em;box-sizing: border-box;margin-bottom: 0.5em;}#sk-container-id-56 div.sk-estimator:hover {background-color: #d4ebff;}#sk-container-id-56 div.sk-parallel-item::after {content: \"\";width: 100%;border-bottom: 1px solid gray;flex-grow: 1;}#sk-container-id-56 div.sk-label:hover label.sk-toggleable__label {background-color: #d4ebff;}#sk-container-id-56 div.sk-serial::before {content: \"\";position: absolute;border-left: 1px solid gray;box-sizing: border-box;top: 0;bottom: 0;left: 50%;z-index: 0;}#sk-container-id-56 div.sk-serial {display: flex;flex-direction: column;align-items: center;background-color: white;padding-right: 0.2em;padding-left: 0.2em;position: relative;}#sk-container-id-56 div.sk-item {position: relative;z-index: 1;}#sk-container-id-56 div.sk-parallel {display: flex;align-items: stretch;justify-content: center;background-color: white;position: relative;}#sk-container-id-56 div.sk-item::before, #sk-container-id-56 div.sk-parallel-item::before {content: \"\";position: absolute;border-left: 1px solid gray;box-sizing: border-box;top: 0;bottom: 0;left: 50%;z-index: -1;}#sk-container-id-56 div.sk-parallel-item {display: flex;flex-direction: column;z-index: 1;position: relative;background-color: white;}#sk-container-id-56 div.sk-parallel-item:first-child::after {align-self: flex-end;width: 50%;}#sk-container-id-56 div.sk-parallel-item:last-child::after {align-self: flex-start;width: 50%;}#sk-container-id-56 div.sk-parallel-item:only-child::after {width: 0;}#sk-container-id-56 div.sk-dashed-wrapped {border: 1px dashed gray;margin: 0 0.4em 0.5em 0.4em;box-sizing: border-box;padding-bottom: 0.4em;background-color: white;}#sk-container-id-56 div.sk-label label {font-family: monospace;font-weight: bold;display: inline-block;line-height: 1.2em;}#sk-container-id-56 div.sk-label-container {text-align: center;}#sk-container-id-56 div.sk-container {/* jupyter's `normalize.less` sets `[hidden] { display: none; }` but bootstrap.min.css set `[hidden] { display: none !important; }` so we also need the `!important` here to be able to override the default hidden behavior on the sphinx rendered scikit-learn.org. See: https://github.com/scikit-learn/scikit-learn/issues/21755 */display: inline-block !important;position: relative;}#sk-container-id-56 div.sk-text-repr-fallback {display: none;}</style><div id=\"sk-container-id-56\" class=\"sk-top-container\"><div class=\"sk-text-repr-fallback\"><pre>Pipeline(steps=[(&#x27;scaler&#x27;, StandardScaler()),\n",
       "                (&#x27;model&#x27;,\n",
       "                 RandomForestRegressor(max_depth=19, min_samples_leaf=10,\n",
       "                                       min_samples_split=10))])</pre><b>In a Jupyter environment, please rerun this cell to show the HTML representation or trust the notebook. <br />On GitHub, the HTML representation is unable to render, please try loading this page with nbviewer.org.</b></div><div class=\"sk-container\" hidden><div class=\"sk-item sk-dashed-wrapped\"><div class=\"sk-label-container\"><div class=\"sk-label sk-toggleable\"><input class=\"sk-toggleable__control sk-hidden--visually\" id=\"sk-estimator-id-230\" type=\"checkbox\" ><label for=\"sk-estimator-id-230\" class=\"sk-toggleable__label sk-toggleable__label-arrow\">Pipeline</label><div class=\"sk-toggleable__content\"><pre>Pipeline(steps=[(&#x27;scaler&#x27;, StandardScaler()),\n",
       "                (&#x27;model&#x27;,\n",
       "                 RandomForestRegressor(max_depth=19, min_samples_leaf=10,\n",
       "                                       min_samples_split=10))])</pre></div></div></div><div class=\"sk-serial\"><div class=\"sk-item\"><div class=\"sk-estimator sk-toggleable\"><input class=\"sk-toggleable__control sk-hidden--visually\" id=\"sk-estimator-id-231\" type=\"checkbox\" ><label for=\"sk-estimator-id-231\" class=\"sk-toggleable__label sk-toggleable__label-arrow\">StandardScaler</label><div class=\"sk-toggleable__content\"><pre>StandardScaler()</pre></div></div></div><div class=\"sk-item\"><div class=\"sk-estimator sk-toggleable\"><input class=\"sk-toggleable__control sk-hidden--visually\" id=\"sk-estimator-id-232\" type=\"checkbox\" ><label for=\"sk-estimator-id-232\" class=\"sk-toggleable__label sk-toggleable__label-arrow\">RandomForestRegressor</label><div class=\"sk-toggleable__content\"><pre>RandomForestRegressor(max_depth=19, min_samples_leaf=10, min_samples_split=10)</pre></div></div></div></div></div></div></div>"
      ],
      "text/plain": [
       "Pipeline(steps=[('scaler', StandardScaler()),\n",
       "                ('model',\n",
       "                 RandomForestRegressor(max_depth=19, min_samples_leaf=10,\n",
       "                                       min_samples_split=10))])"
      ]
     },
     "execution_count": 623,
     "metadata": {},
     "output_type": "execute_result"
    }
   ],
   "source": [
    "pipline.fit(x,y)"
   ]
  },
  {
   "cell_type": "code",
   "execution_count": 624,
   "id": "35ce057d",
   "metadata": {},
   "outputs": [],
   "source": [
    "test  = df.iloc[1: 4].drop('age',axis = 1)"
   ]
  },
  {
   "cell_type": "code",
   "execution_count": 625,
   "id": "9330cb08",
   "metadata": {},
   "outputs": [
    {
     "data": {
      "text/html": [
       "<div>\n",
       "<style scoped>\n",
       "    .dataframe tbody tr th:only-of-type {\n",
       "        vertical-align: middle;\n",
       "    }\n",
       "\n",
       "    .dataframe tbody tr th {\n",
       "        vertical-align: top;\n",
       "    }\n",
       "\n",
       "    .dataframe thead th {\n",
       "        text-align: right;\n",
       "    }\n",
       "</style>\n",
       "<table border=\"1\" class=\"dataframe\">\n",
       "  <thead>\n",
       "    <tr style=\"text-align: right;\">\n",
       "      <th></th>\n",
       "      <th>gender</th>\n",
       "      <th>height</th>\n",
       "      <th>weight</th>\n",
       "      <th>ap_hi</th>\n",
       "      <th>ap_lo</th>\n",
       "      <th>cholesterol</th>\n",
       "      <th>gluc</th>\n",
       "      <th>smoke</th>\n",
       "      <th>alco</th>\n",
       "      <th>active</th>\n",
       "      <th>cardio</th>\n",
       "    </tr>\n",
       "  </thead>\n",
       "  <tbody>\n",
       "    <tr>\n",
       "      <th>3</th>\n",
       "      <td>2</td>\n",
       "      <td>169</td>\n",
       "      <td>82.0</td>\n",
       "      <td>150</td>\n",
       "      <td>100</td>\n",
       "      <td>1</td>\n",
       "      <td>1</td>\n",
       "      <td>0</td>\n",
       "      <td>0</td>\n",
       "      <td>1</td>\n",
       "      <td>1</td>\n",
       "    </tr>\n",
       "  </tbody>\n",
       "</table>\n",
       "</div>"
      ],
      "text/plain": [
       "   gender  height  weight  ap_hi  ap_lo  cholesterol  gluc  smoke  alco  \\\n",
       "3       2     169    82.0    150    100            1     1      0     0   \n",
       "\n",
       "   active  cardio  \n",
       "3       1       1  "
      ]
     },
     "execution_count": 625,
     "metadata": {},
     "output_type": "execute_result"
    }
   ],
   "source": [
    "df.iloc[3:4].drop('age',axis = 1)"
   ]
  },
  {
   "cell_type": "code",
   "execution_count": 626,
   "id": "80590c98",
   "metadata": {},
   "outputs": [],
   "source": [
    "test  = df.iloc[13: 17].drop('height',axis = 1)"
   ]
  },
  {
   "cell_type": "code",
   "execution_count": 627,
   "id": "9b7eb6a6",
   "metadata": {},
   "outputs": [
    {
     "data": {
      "text/html": [
       "<div>\n",
       "<style scoped>\n",
       "    .dataframe tbody tr th:only-of-type {\n",
       "        vertical-align: middle;\n",
       "    }\n",
       "\n",
       "    .dataframe tbody tr th {\n",
       "        vertical-align: top;\n",
       "    }\n",
       "\n",
       "    .dataframe thead th {\n",
       "        text-align: right;\n",
       "    }\n",
       "</style>\n",
       "<table border=\"1\" class=\"dataframe\">\n",
       "  <thead>\n",
       "    <tr style=\"text-align: right;\">\n",
       "      <th></th>\n",
       "      <th>age</th>\n",
       "      <th>gender</th>\n",
       "      <th>height</th>\n",
       "      <th>weight</th>\n",
       "      <th>ap_hi</th>\n",
       "      <th>ap_lo</th>\n",
       "      <th>cholesterol</th>\n",
       "      <th>gluc</th>\n",
       "      <th>smoke</th>\n",
       "      <th>alco</th>\n",
       "      <th>active</th>\n",
       "      <th>cardio</th>\n",
       "    </tr>\n",
       "  </thead>\n",
       "  <tbody>\n",
       "    <tr>\n",
       "      <th>13</th>\n",
       "      <td>58.345205</td>\n",
       "      <td>1</td>\n",
       "      <td>170</td>\n",
       "      <td>75.0</td>\n",
       "      <td>130</td>\n",
       "      <td>70</td>\n",
       "      <td>1</td>\n",
       "      <td>1</td>\n",
       "      <td>0</td>\n",
       "      <td>0</td>\n",
       "      <td>0</td>\n",
       "      <td>0</td>\n",
       "    </tr>\n",
       "    <tr>\n",
       "      <th>14</th>\n",
       "      <td>45.882192</td>\n",
       "      <td>1</td>\n",
       "      <td>158</td>\n",
       "      <td>52.0</td>\n",
       "      <td>110</td>\n",
       "      <td>70</td>\n",
       "      <td>1</td>\n",
       "      <td>3</td>\n",
       "      <td>0</td>\n",
       "      <td>0</td>\n",
       "      <td>1</td>\n",
       "      <td>0</td>\n",
       "    </tr>\n",
       "    <tr>\n",
       "      <th>15</th>\n",
       "      <td>47.895890</td>\n",
       "      <td>1</td>\n",
       "      <td>154</td>\n",
       "      <td>68.0</td>\n",
       "      <td>100</td>\n",
       "      <td>70</td>\n",
       "      <td>1</td>\n",
       "      <td>1</td>\n",
       "      <td>0</td>\n",
       "      <td>0</td>\n",
       "      <td>0</td>\n",
       "      <td>0</td>\n",
       "    </tr>\n",
       "    <tr>\n",
       "      <th>16</th>\n",
       "      <td>59.602740</td>\n",
       "      <td>2</td>\n",
       "      <td>162</td>\n",
       "      <td>56.0</td>\n",
       "      <td>120</td>\n",
       "      <td>70</td>\n",
       "      <td>1</td>\n",
       "      <td>1</td>\n",
       "      <td>1</td>\n",
       "      <td>0</td>\n",
       "      <td>1</td>\n",
       "      <td>0</td>\n",
       "    </tr>\n",
       "  </tbody>\n",
       "</table>\n",
       "</div>"
      ],
      "text/plain": [
       "          age  gender  height  weight  ap_hi  ap_lo  cholesterol  gluc  smoke  \\\n",
       "13  58.345205       1     170    75.0    130     70            1     1      0   \n",
       "14  45.882192       1     158    52.0    110     70            1     3      0   \n",
       "15  47.895890       1     154    68.0    100     70            1     1      0   \n",
       "16  59.602740       2     162    56.0    120     70            1     1      1   \n",
       "\n",
       "    alco  active  cardio  \n",
       "13     0       0       0  \n",
       "14     0       1       0  \n",
       "15     0       0       0  \n",
       "16     0       1       0  "
      ]
     },
     "execution_count": 627,
     "metadata": {},
     "output_type": "execute_result"
    }
   ],
   "source": [
    "df.iloc[13: 17]"
   ]
  },
  {
   "cell_type": "code",
   "execution_count": 634,
   "id": "680ec9a2",
   "metadata": {},
   "outputs": [
    {
     "data": {
      "text/plain": [
       "array([1.31901037, 1.59584765, 1.19537083, 1.36677322])"
      ]
     },
     "execution_count": 634,
     "metadata": {},
     "output_type": "execute_result"
    }
   ],
   "source": [
    "pipline.predict(test)"
   ]
  },
  {
   "cell_type": "markdown",
   "id": "cf051846",
   "metadata": {},
   "source": [
    " "
   ]
  },
  {
   "cell_type": "code",
   "execution_count": 629,
   "id": "5899ebff",
   "metadata": {},
   "outputs": [],
   "source": [
    "import joblib"
   ]
  },
  {
   "cell_type": "code",
   "execution_count": 635,
   "id": "89a6a59c",
   "metadata": {},
   "outputs": [
    {
     "data": {
      "text/plain": [
       "['input.h5']"
      ]
     },
     "execution_count": 635,
     "metadata": {},
     "output_type": "execute_result"
    }
   ],
   "source": [
    "joblib.dump(pipline,\"pipline.h5\")\n",
    "joblib.dump(x.columns,\"input.h5\")"
   ]
  },
  {
   "cell_type": "code",
   "execution_count": 638,
   "id": "66da75b9",
   "metadata": {},
   "outputs": [],
   "source": [
    "model = joblib.load('pipline.h5')\n",
    "inp = joblib.load('input.h5')"
   ]
  },
  {
   "cell_type": "code",
   "execution_count": null,
   "id": "8cc17577",
   "metadata": {},
   "outputs": [],
   "source": [
    "import streamlit  as st\n",
    "import joblib\n",
    "import pandas as pd"
   ]
  },
  {
   "cell_type": "code",
   "execution_count": 676,
   "id": "a1dabe19",
   "metadata": {},
   "outputs": [
    {
     "name": "stdout",
     "output_type": "stream",
     "text": [
      "Writing Cholesterol.py\n"
     ]
    }
   ],
   "source": [
    "%%writefile Cholesterol.py\n",
    "\n",
    "import streamlit  as st\n",
    "import joblib\n",
    "import pandas as pd\n",
    "import sklearn \n",
    "\n",
    "model = joblib.load('pipline.h5')\n",
    "Inputs = joblib.load('input.h5')\n",
    "\n",
    "\n",
    "\n",
    "def predict(age, gender, height, weight, ap_hi, ap_lo, gluc, smoke,alco, active, cardio) :\n",
    "    test_df = pd.DataFrame(columns = Inputs)\n",
    "    test_df.at[0,'age'] = age\n",
    "    test_df.at[0,'gender'] = gender\n",
    "    test_df.at[0,\"height\"] = height\n",
    "    test_df.at[0,\"weight\"] = weight\n",
    "    test_df.at[0,\"ap_hi\"] = ap_hi\n",
    "    test_df.at[0,\"ap_lo\"] = ap_lo\n",
    "    test_df.at[0,\"gluc\"] = gluc\n",
    "    test_df.at[0,\"smoke\"] = smoke\n",
    "    test_df.at[0,\"alco\"] = alco\n",
    "    test_df.at[0,\"active\"] = active\n",
    "    test_df.at[0,\"cardio\"] = cardio\n",
    "    result = model.predict(test_df)[0]\n",
    "    return result\n",
    "\n",
    "def main () :\n",
    "    st.title('Estimate your Cholesterol') \n",
    "    age = st.slider(\"age\" , min_value=10 , max_value=90 , value=25 , step=1)\n",
    "    gender = st.selectbox(\"gender\" ,[0, 1])\n",
    "    height = st.slider(\"height\" , min_value=0.0 , max_value= 200.0 , value=25.0 , step=0.2)\n",
    "    weight = st.slider(\"weight\" , min_value=0.0 , max_value=110.0 , value=25.0 , step=0.2)\n",
    "    ap_hi = st.slider(\"ap_hi\" , min_value=0.0 , max_value=180.0 , value=25.0 , step=0.2)\n",
    "    ap_lo = st.slider(\"ap_lo\" , min_value=0.0 , max_value=110.0 , value=25.0 , step=0.2)\n",
    "    smoke = st.selectbox(\"smoke\",[1,0])\n",
    "    alco = st.selectbox(\"alco\",[1,0])\n",
    "    gluc = st.selectbox(\"gluc\" ,[ 1, 2, 3] )\n",
    "    active = st.selectbox(\"active\",[0, 1])\n",
    "    cardio = st.selectbox(\"cardio\",[1,0])\n",
    "    \n",
    "    if st.button('Predict') :\n",
    "        result = predict(age, gender, height, weight, ap_hi, ap_lo, gluc, smoke,alco, active, cardio)\n",
    "        st.write('your cholesterol level is {}'.format(result))\n",
    "                  \n",
    "\n",
    "        \n",
    "        \n",
    "if __name__ == '__main__' :\n",
    "    main()\n",
    "    \n",
    "  "
   ]
  },
  {
   "cell_type": "code",
   "execution_count": null,
   "id": "bace469a",
   "metadata": {},
   "outputs": [],
   "source": [
    "!streamlit run Cholesterol.py"
   ]
  },
  {
   "cell_type": "code",
   "execution_count": 668,
   "id": "44500800",
   "metadata": {},
   "outputs": [
    {
     "data": {
      "text/plain": [
       "array(['age', 'gender', 'height', 'weight', 'ap_hi', 'ap_lo', 'gluc',\n",
       "       'smoke', 'alco', 'active', 'cardio'], dtype=object)"
      ]
     },
     "execution_count": 668,
     "metadata": {},
     "output_type": "execute_result"
    }
   ],
   "source": [
    "model.feature_names_in_"
   ]
  },
  {
   "cell_type": "code",
   "execution_count": 670,
   "id": "4f5430fc",
   "metadata": {},
   "outputs": [
    {
     "data": {
      "text/plain": [
       "array([0, 1], dtype=int64)"
      ]
     },
     "execution_count": 670,
     "metadata": {},
     "output_type": "execute_result"
    }
   ],
   "source": [
    "df['alco'].unique()"
   ]
  },
  {
   "cell_type": "code",
   "execution_count": null,
   "id": "5164aec9",
   "metadata": {},
   "outputs": [],
   "source": []
  }
 ],
 "metadata": {
  "kernelspec": {
   "display_name": "Python 3",
   "language": "python",
   "name": "python3"
  },
  "language_info": {
   "codemirror_mode": {
    "name": "ipython",
    "version": 3
   },
   "file_extension": ".py",
   "mimetype": "text/x-python",
   "name": "python",
   "nbconvert_exporter": "python",
   "pygments_lexer": "ipython3",
   "version": "3.8.8"
  }
 },
 "nbformat": 4,
 "nbformat_minor": 5
}
